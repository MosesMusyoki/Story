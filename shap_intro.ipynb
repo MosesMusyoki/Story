{
  "nbformat": 4,
  "nbformat_minor": 0,
  "metadata": {
    "colab": {
      "provenance": [],
      "authorship_tag": "ABX9TyM4njpE294GxBw/UtDtv5eK"
    },
    "kernelspec": {
      "name": "python3",
      "display_name": "Python 3"
    },
    "language_info": {
      "name": "python"
    }
  },
  "cells": [
    {
      "cell_type": "code",
      "execution_count": 1,
      "metadata": {
        "id": "AVxeZe7JeUe7"
      },
      "outputs": [],
      "source": [
        "import shap"
      ]
    },
    {
      "cell_type": "code",
      "source": [],
      "metadata": {
        "id": "5QuNjAbvelIq"
      },
      "execution_count": null,
      "outputs": []
    }
  ]
}